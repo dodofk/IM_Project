{
 "cells": [
  {
   "cell_type": "code",
   "execution_count": 8,
   "metadata": {
    "collapsed": true
   },
   "outputs": [],
   "source": [
    "import warnings\n",
    "warnings.simplefilter(action='ignore', category=FutureWarning)\n",
    "\n",
    "import os\n",
    "import pandas as pd"
   ]
  },
  {
   "cell_type": "code",
   "execution_count": 9,
   "outputs": [],
   "source": [
    "class CFG:\n",
    "    data_dir: str = \"../data/HeiChole_data/file/Hei-Chole1_Annotation_Phase.csv\""
   ],
   "metadata": {
    "collapsed": false,
    "pycharm": {
     "name": "#%%\n"
    }
   }
  },
  {
   "cell_type": "code",
   "execution_count": 15,
   "outputs": [],
   "source": [
    "def video_to_fps(video_id: int):\n",
    "    if video_id in [16, 17, 18, 19, 20, 23, 24]:\n",
    "        return 50\n",
    "    else:\n",
    "        return 25"
   ],
   "metadata": {
    "collapsed": false,
    "pycharm": {
     "name": "#%%\n"
    }
   }
  },
  {
   "cell_type": "code",
   "execution_count": 10,
   "outputs": [
    {
     "data": {
      "text/plain": "range(1, 18)"
     },
     "execution_count": 10,
     "metadata": {},
     "output_type": "execute_result"
    }
   ],
   "source": [
    "train_split = range(1, 18)\n",
    "valid_split = range(18, 25)\n",
    "train_split"
   ],
   "metadata": {
    "collapsed": false,
    "pycharm": {
     "name": "#%%\n"
    }
   }
  },
  {
   "cell_type": "code",
   "execution_count": 11,
   "outputs": [],
   "source": [
    "df = pd.read_csv(CFG.data_dir, header=None)"
   ],
   "metadata": {
    "collapsed": false,
    "pycharm": {
     "name": "#%%\n"
    }
   }
  },
  {
   "cell_type": "code",
   "execution_count": 12,
   "outputs": [
    {
     "data": {
      "text/plain": "0"
     },
     "execution_count": 12,
     "metadata": {},
     "output_type": "execute_result"
    }
   ],
   "source": [
    "df[1][10]"
   ],
   "metadata": {
    "collapsed": false,
    "pycharm": {
     "name": "#%%\n"
    }
   }
  },
  {
   "cell_type": "code",
   "execution_count": 13,
   "outputs": [
    {
     "data": {
      "text/plain": "63"
     },
     "execution_count": 13,
     "metadata": {},
     "output_type": "execute_result"
    }
   ],
   "source": [
    "int(os.listdir(\"../data/HeiChole_data/HeiChole_1\")[0].split(\".\")[0])"
   ],
   "metadata": {
    "collapsed": false,
    "pycharm": {
     "name": "#%%\n"
    }
   }
  },
  {
   "cell_type": "markdown",
   "source": [
    "## Preprocess Action Part"
   ],
   "metadata": {
    "collapsed": false
   }
  },
  {
   "cell_type": "code",
   "execution_count": 16,
   "outputs": [
    {
     "name": "stdout",
     "output_type": "stream",
     "text": [
      "1 2199 54950\n",
      "2 2038 50925\n",
      "3 2881 72000\n",
      "4 1274 31825\n",
      "5 3131 78250\n",
      "6 2890 72225\n",
      "7 4188 104675\n",
      "8 1713 42800\n",
      "9 2690 67225\n",
      "10 1791 44750\n",
      "11 1414 35325\n",
      "12 1792 44775\n",
      "12 1793 44800\n",
      "13 1979 49450\n",
      "14 2132 53275\n",
      "15 1981 49500\n",
      "16 3695 184700\n",
      "16 3696 184750\n",
      "17 5104 255150\n"
     ]
    }
   ],
   "source": [
    "df_train = pd.DataFrame()\n",
    "df_train[\"video_id\"] = list()\n",
    "df_train[\"image_id\"] = list()\n",
    "df_train[\"phase\"] = list()\n",
    "\n",
    "for i in train_split:\n",
    "    files = os.listdir(f\"../data/HeiChole_data/HeiChole_{i}\")\n",
    "\n",
    "    for file in files:\n",
    "        df = pd.read_csv(f\"../data/HeiChole_data/file/Hei-Chole{i}_Annotation_Phase.csv\", header=None)\n",
    "        id = int(file.split(\".\")[0])\n",
    "\n",
    "        frame_id = (id-1) * video_to_fps(i)\n",
    "        try:\n",
    "            phase = df[1][frame_id]\n",
    "        except KeyError:\n",
    "            print(i, id, frame_id)\n",
    "        else:\n",
    "            df_train = df_train.append(\n",
    "                {\n",
    "                    \"video_id\": int(i),\n",
    "                    \"image_id\": int(id),\n",
    "                    \"phase\": int(phase),\n",
    "                },\n",
    "                ignore_index=True,\n",
    "            )"
   ],
   "metadata": {
    "collapsed": false,
    "pycharm": {
     "name": "#%%\n"
    }
   }
  },
  {
   "cell_type": "code",
   "execution_count": 17,
   "outputs": [],
   "source": [
    "df_train[\"video_id\"] = [int(video_id) for video_id in df_train[\"video_id\"]]\n",
    "df_train[\"image_id\"] = [int(image_id) for image_id in df_train[\"image_id\"]]\n",
    "df_train[\"phase\"] = [int(phase) for phase in df_train[\"phase\"]]"
   ],
   "metadata": {
    "collapsed": false,
    "pycharm": {
     "name": "#%%\n"
    }
   }
  },
  {
   "cell_type": "code",
   "execution_count": 19,
   "outputs": [
    {
     "data": {
      "text/plain": "       video_id  image_id  phase\n42870        17      3207      1\n42871        17      4568      5\n42872        17      2119      1\n42873        17      3561      3\n42874        17      1376      1",
      "text/html": "<div>\n<style scoped>\n    .dataframe tbody tr th:only-of-type {\n        vertical-align: middle;\n    }\n\n    .dataframe tbody tr th {\n        vertical-align: top;\n    }\n\n    .dataframe thead th {\n        text-align: right;\n    }\n</style>\n<table border=\"1\" class=\"dataframe\">\n  <thead>\n    <tr style=\"text-align: right;\">\n      <th></th>\n      <th>video_id</th>\n      <th>image_id</th>\n      <th>phase</th>\n    </tr>\n  </thead>\n  <tbody>\n    <tr>\n      <th>42870</th>\n      <td>17</td>\n      <td>3207</td>\n      <td>1</td>\n    </tr>\n    <tr>\n      <th>42871</th>\n      <td>17</td>\n      <td>4568</td>\n      <td>5</td>\n    </tr>\n    <tr>\n      <th>42872</th>\n      <td>17</td>\n      <td>2119</td>\n      <td>1</td>\n    </tr>\n    <tr>\n      <th>42873</th>\n      <td>17</td>\n      <td>3561</td>\n      <td>3</td>\n    </tr>\n    <tr>\n      <th>42874</th>\n      <td>17</td>\n      <td>1376</td>\n      <td>1</td>\n    </tr>\n  </tbody>\n</table>\n</div>"
     },
     "execution_count": 19,
     "metadata": {},
     "output_type": "execute_result"
    }
   ],
   "source": [
    "df_train.tail()"
   ],
   "metadata": {
    "collapsed": false,
    "pycharm": {
     "name": "#%%\n"
    }
   }
  },
  {
   "cell_type": "code",
   "execution_count": 31,
   "outputs": [],
   "source": [
    "df_train.to_csv(\"../data/HeiChole_data/train.csv\", index=False)"
   ],
   "metadata": {
    "collapsed": false,
    "pycharm": {
     "name": "#%%\n"
    }
   }
  },
  {
   "cell_type": "code",
   "execution_count": 21,
   "outputs": [
    {
     "name": "stdout",
     "output_type": "stream",
     "text": [
      "18 1554 77650\n",
      "19 1892 94550\n",
      "20 1662 83050\n",
      "20 1663 83100\n",
      "21 1312 32775\n",
      "22 1423 35550\n",
      "23 1832 91550\n",
      "24 2596 129750\n"
     ]
    }
   ],
   "source": [
    "df_valid = pd.DataFrame()\n",
    "df_valid[\"video_id\"] = list()\n",
    "df_valid[\"image_id\"] = list()\n",
    "df_valid[\"phase\"] = list()\n",
    "\n",
    "for i in valid_split:\n",
    "    files = os.listdir(f\"../data/HeiChole_data/HeiChole_{i}\")\n",
    "\n",
    "    for file in files:\n",
    "        df = pd.read_csv(f\"../data/HeiChole_data/file/Hei-Chole{i}_Annotation_Phase.csv\", header=None)\n",
    "        id = int(file.split(\".\")[0])\n",
    "\n",
    "        frame_id = (id-1) * video_to_fps(i)\n",
    "        try:\n",
    "            phase = df[1][frame_id]\n",
    "        except KeyError:\n",
    "            print(i, id, frame_id)\n",
    "        else:\n",
    "            df_valid = df_valid.append(\n",
    "                {\n",
    "                    \"video_id\": int(i),\n",
    "                    \"image_id\": int(id),\n",
    "                    \"phase\": int(phase),\n",
    "                },\n",
    "                ignore_index=True,\n",
    "            )"
   ],
   "metadata": {
    "collapsed": false,
    "pycharm": {
     "name": "#%%\n"
    }
   }
  },
  {
   "cell_type": "code",
   "execution_count": 30,
   "outputs": [],
   "source": [
    "df_valid[\"video_id\"] = [int(video_id) for video_id in df_valid[\"video_id\"]]\n",
    "df_valid[\"image_id\"] = [int(image_id) for image_id in df_valid[\"image_id\"]]\n",
    "df_valid[\"phase\"] = [int(phase) for phase in df_valid[\"phase\"]]\n",
    "\n",
    "df_valid.to_csv(\"../data/HeiChole_data/dev.csv\", index=False)"
   ],
   "metadata": {
    "collapsed": false,
    "pycharm": {
     "name": "#%%\n"
    }
   }
  },
  {
   "cell_type": "code",
   "execution_count": 23,
   "outputs": [
    {
     "data": {
      "text/plain": "       video_id  image_id  phase\n0            18        63      0\n1            18       823      1\n2            18      1409      5\n3            18       189      1\n4            18        77      0\n...         ...       ...    ...\n12259        24      1404      1\n12260        24      1410      1\n12261        24       184      1\n12262        24      2119      4\n12263        24      1376      1\n\n[12264 rows x 3 columns]",
      "text/html": "<div>\n<style scoped>\n    .dataframe tbody tr th:only-of-type {\n        vertical-align: middle;\n    }\n\n    .dataframe tbody tr th {\n        vertical-align: top;\n    }\n\n    .dataframe thead th {\n        text-align: right;\n    }\n</style>\n<table border=\"1\" class=\"dataframe\">\n  <thead>\n    <tr style=\"text-align: right;\">\n      <th></th>\n      <th>video_id</th>\n      <th>image_id</th>\n      <th>phase</th>\n    </tr>\n  </thead>\n  <tbody>\n    <tr>\n      <th>0</th>\n      <td>18</td>\n      <td>63</td>\n      <td>0</td>\n    </tr>\n    <tr>\n      <th>1</th>\n      <td>18</td>\n      <td>823</td>\n      <td>1</td>\n    </tr>\n    <tr>\n      <th>2</th>\n      <td>18</td>\n      <td>1409</td>\n      <td>5</td>\n    </tr>\n    <tr>\n      <th>3</th>\n      <td>18</td>\n      <td>189</td>\n      <td>1</td>\n    </tr>\n    <tr>\n      <th>4</th>\n      <td>18</td>\n      <td>77</td>\n      <td>0</td>\n    </tr>\n    <tr>\n      <th>...</th>\n      <td>...</td>\n      <td>...</td>\n      <td>...</td>\n    </tr>\n    <tr>\n      <th>12259</th>\n      <td>24</td>\n      <td>1404</td>\n      <td>1</td>\n    </tr>\n    <tr>\n      <th>12260</th>\n      <td>24</td>\n      <td>1410</td>\n      <td>1</td>\n    </tr>\n    <tr>\n      <th>12261</th>\n      <td>24</td>\n      <td>184</td>\n      <td>1</td>\n    </tr>\n    <tr>\n      <th>12262</th>\n      <td>24</td>\n      <td>2119</td>\n      <td>4</td>\n    </tr>\n    <tr>\n      <th>12263</th>\n      <td>24</td>\n      <td>1376</td>\n      <td>1</td>\n    </tr>\n  </tbody>\n</table>\n<p>12264 rows × 3 columns</p>\n</div>"
     },
     "execution_count": 23,
     "metadata": {},
     "output_type": "execute_result"
    }
   ],
   "source": [
    "df_valid"
   ],
   "metadata": {
    "collapsed": false,
    "pycharm": {
     "name": "#%%\n"
    }
   }
  },
  {
   "cell_type": "markdown",
   "source": [
    "## Reformat csv"
   ],
   "metadata": {
    "collapsed": false,
    "pycharm": {
     "name": "#%% md\n"
    }
   }
  },
  {
   "cell_type": "code",
   "execution_count": 110,
   "outputs": [],
   "source": [
    "df_train = pd.read_csv(\"../data/HeiChole_data/train.csv\")"
   ],
   "metadata": {
    "collapsed": false,
    "pycharm": {
     "name": "#%%\n"
    }
   }
  },
  {
   "cell_type": "code",
   "execution_count": 116,
   "outputs": [
    {
     "data": {
      "text/plain": "       video_id  image_id  phase\n0             1         1      0\n1             1         2      0\n2             1         3      0\n3             1         4      0\n4             1         5      0\n...         ...       ...    ...\n42873        17      5100      1\n42874        17      5101      1\n42875        17      5102      1\n42876        17      5103      1\n42877        17      5104      1\n\n[42878 rows x 3 columns]",
      "text/html": "<div>\n<style scoped>\n    .dataframe tbody tr th:only-of-type {\n        vertical-align: middle;\n    }\n\n    .dataframe tbody tr th {\n        vertical-align: top;\n    }\n\n    .dataframe thead th {\n        text-align: right;\n    }\n</style>\n<table border=\"1\" class=\"dataframe\">\n  <thead>\n    <tr style=\"text-align: right;\">\n      <th></th>\n      <th>video_id</th>\n      <th>image_id</th>\n      <th>phase</th>\n    </tr>\n  </thead>\n  <tbody>\n    <tr>\n      <th>0</th>\n      <td>1</td>\n      <td>1</td>\n      <td>0</td>\n    </tr>\n    <tr>\n      <th>1</th>\n      <td>1</td>\n      <td>2</td>\n      <td>0</td>\n    </tr>\n    <tr>\n      <th>2</th>\n      <td>1</td>\n      <td>3</td>\n      <td>0</td>\n    </tr>\n    <tr>\n      <th>3</th>\n      <td>1</td>\n      <td>4</td>\n      <td>0</td>\n    </tr>\n    <tr>\n      <th>4</th>\n      <td>1</td>\n      <td>5</td>\n      <td>0</td>\n    </tr>\n    <tr>\n      <th>...</th>\n      <td>...</td>\n      <td>...</td>\n      <td>...</td>\n    </tr>\n    <tr>\n      <th>42873</th>\n      <td>17</td>\n      <td>5100</td>\n      <td>1</td>\n    </tr>\n    <tr>\n      <th>42874</th>\n      <td>17</td>\n      <td>5101</td>\n      <td>1</td>\n    </tr>\n    <tr>\n      <th>42875</th>\n      <td>17</td>\n      <td>5102</td>\n      <td>1</td>\n    </tr>\n    <tr>\n      <th>42876</th>\n      <td>17</td>\n      <td>5103</td>\n      <td>1</td>\n    </tr>\n    <tr>\n      <th>42877</th>\n      <td>17</td>\n      <td>5104</td>\n      <td>1</td>\n    </tr>\n  </tbody>\n</table>\n<p>42878 rows × 3 columns</p>\n</div>"
     },
     "execution_count": 116,
     "metadata": {},
     "output_type": "execute_result"
    }
   ],
   "source": [
    "df_train"
   ],
   "metadata": {
    "collapsed": false,
    "pycharm": {
     "name": "#%%\n"
    }
   }
  },
  {
   "cell_type": "code",
   "execution_count": 125,
   "outputs": [
    {
     "data": {
      "text/plain": "0"
     },
     "execution_count": 125,
     "metadata": {},
     "output_type": "execute_result"
    }
   ],
   "source": [
    "df_train[(df_train[\"video_id\"] == 1) & (df_train[\"image_id\"] == 8)][\"phase\"].iloc[0]"
   ],
   "metadata": {
    "collapsed": false,
    "pycharm": {
     "name": "#%%\n"
    }
   }
  },
  {
   "cell_type": "code",
   "execution_count": 29,
   "outputs": [
    {
     "data": {
      "text/plain": "       video_id  image_id  phase\n12200        24      1799      3\n12213        24      1772      3\n12219        24      1766      3\n12220        24      1821      3\n12224        24      1835      3\n...         ...       ...    ...\n12221        24      2496      6\n12222        24      2482      6\n12231        24      2455      6\n12232        24      2441      6\n12237        24      2469      6\n\n[500 rows x 3 columns]",
      "text/html": "<div>\n<style scoped>\n    .dataframe tbody tr th:only-of-type {\n        vertical-align: middle;\n    }\n\n    .dataframe tbody tr th {\n        vertical-align: top;\n    }\n\n    .dataframe thead th {\n        text-align: right;\n    }\n</style>\n<table border=\"1\" class=\"dataframe\">\n  <thead>\n    <tr style=\"text-align: right;\">\n      <th></th>\n      <th>video_id</th>\n      <th>image_id</th>\n      <th>phase</th>\n    </tr>\n  </thead>\n  <tbody>\n    <tr>\n      <th>12200</th>\n      <td>24</td>\n      <td>1799</td>\n      <td>3</td>\n    </tr>\n    <tr>\n      <th>12213</th>\n      <td>24</td>\n      <td>1772</td>\n      <td>3</td>\n    </tr>\n    <tr>\n      <th>12219</th>\n      <td>24</td>\n      <td>1766</td>\n      <td>3</td>\n    </tr>\n    <tr>\n      <th>12220</th>\n      <td>24</td>\n      <td>1821</td>\n      <td>3</td>\n    </tr>\n    <tr>\n      <th>12224</th>\n      <td>24</td>\n      <td>1835</td>\n      <td>3</td>\n    </tr>\n    <tr>\n      <th>...</th>\n      <td>...</td>\n      <td>...</td>\n      <td>...</td>\n    </tr>\n    <tr>\n      <th>12221</th>\n      <td>24</td>\n      <td>2496</td>\n      <td>6</td>\n    </tr>\n    <tr>\n      <th>12222</th>\n      <td>24</td>\n      <td>2482</td>\n      <td>6</td>\n    </tr>\n    <tr>\n      <th>12231</th>\n      <td>24</td>\n      <td>2455</td>\n      <td>6</td>\n    </tr>\n    <tr>\n      <th>12232</th>\n      <td>24</td>\n      <td>2441</td>\n      <td>6</td>\n    </tr>\n    <tr>\n      <th>12237</th>\n      <td>24</td>\n      <td>2469</td>\n      <td>6</td>\n    </tr>\n  </tbody>\n</table>\n<p>500 rows × 3 columns</p>\n</div>"
     },
     "execution_count": 29,
     "metadata": {},
     "output_type": "execute_result"
    }
   ],
   "source": [
    "df_train.sort_values(\n",
    "    by=[\"video_id\", \"phase\"],\n",
    "    inplace=True,\n",
    ")\n",
    "df_valid.sort_values(\n",
    "    by=[\"video_id\", \"phase\"],\n",
    "    inplace=True,\n",
    ")\n",
    "\n",
    "df_valid.tail(\n",
    "    n=500\n",
    ")"
   ],
   "metadata": {
    "collapsed": false,
    "pycharm": {
     "name": "#%%\n"
    }
   }
  },
  {
   "cell_type": "code",
   "execution_count": null,
   "outputs": [],
   "source": [],
   "metadata": {
    "collapsed": false,
    "pycharm": {
     "name": "#%%\n"
    }
   }
  }
 ],
 "metadata": {
  "kernelspec": {
   "display_name": "Python 3",
   "language": "python",
   "name": "python3"
  },
  "language_info": {
   "codemirror_mode": {
    "name": "ipython",
    "version": 2
   },
   "file_extension": ".py",
   "mimetype": "text/x-python",
   "name": "python",
   "nbconvert_exporter": "python",
   "pygments_lexer": "ipython2",
   "version": "2.7.6"
  }
 },
 "nbformat": 4,
 "nbformat_minor": 0
}